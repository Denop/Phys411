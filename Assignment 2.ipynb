{
 "metadata": {
  "name": "",
  "signature": "sha256:d53b0855555139b4af28a37d4f3a30a630cd0df1627b239e2e988b0699f4aab7"
 },
 "nbformat": 3,
 "nbformat_minor": 0,
 "worksheets": [
  {
   "cells": [
    {
     "cell_type": "code",
     "collapsed": false,
     "input": [
      "import numpy as np\n",
      "import math\n",
      "%matplotlib inline\n",
      "import matplotlib.pyplot as plt\n",
      "import scipy.stats as stats\n",
      "\n",
      "#---------Question One-------------#\n",
      "a = 1.0\n",
      "x = np.random.randn(200000)\n",
      "rando = np.random.randn(200000)\n",
      "n = np.logspace(1,-1,40,True,0.01)\n",
      "y = np.zeros((200000,40))\n",
      "for i in range(0,40):\n",
      "    for j in range(0,200000):\n",
      "        y[j,i] = a*x[j]+math.sqrt(n[i])*rando[j]\n",
      "        j = j + 1\n",
      "    i = i + 1\n",
      "    j = 0"
     ],
     "language": "python",
     "metadata": {},
     "outputs": [
      {
       "output_type": "stream",
       "stream": "stdout",
       "text": [
        "(40L, 200000L, 1L)\n"
       ]
      }
     ],
     "prompt_number": 7
    },
    {
     "cell_type": "code",
     "collapsed": false,
     "input": [
      "#---------Question Two-------------#\n",
      "def slopemaker(x):\n",
      "    z = np.random.randn(10)\n",
      "    m = np.random.randn(10)\n",
      "    c = 1.0\n",
      "    w = c*z + m\n",
      "    b = (np.sum(z*w)-(10*np.mean(w)*np.mean(z)))/(np.sum(z**2)-(np.mean(z)**2)*10)\n",
      "    a = np.mean(w)-b*np.mean(z)\n",
      "    wtild = b*z + a\n",
      "    sxy=(np.sum((w-wtild)**2)/8)**(0.5)\n",
      "    if x == 0:\n",
      "        return b\n",
      "    else:\n",
      "        return sxy\n",
      "p = np.zeros(10000)\n",
      "l = np.zeros(10000)\n",
      "j = 0\n",
      "while (j < 10000):\n",
      "    p[j]=slopemaker(0)\n",
      "    l[j]=slopemaker(2)\n",
      "    j = j + 1\n",
      "fig=plt.figure(figsize=(4,6))\n",
      "ax=fig.add_subplot(2,1,2) \n",
      "ax.hist(p,label='My Slope')\n",
      "ax.set_xlabel('Slope')\n",
      "ax.set_ylabel('Occurences')\n",
      "fig1=plt.figure(figsize=(4,6))\n",
      "ax1=fig1.add_subplot(2,1,2) \n",
      "ax1.hist(l,label='My Slope')\n",
      "ax1.set_xlabel('Sample Standard Deviation')\n",
      "ax1.set_ylabel('Occurences')\n",
      "#The occurences in the sample standard deviation graph is lower at the mean than the occurences for the slope\n",
      "#The variance in the slope is lower than that of the sample standard deviation"
     ],
     "language": "python",
     "metadata": {},
     "outputs": [
      {
       "metadata": {},
       "output_type": "pyout",
       "prompt_number": 41,
       "text": [
        "<matplotlib.text.Text at 0x14fd7f60>"
       ]
      },
      {
       "metadata": {},
       "output_type": "display_data",
       "png": "[encoded data removed]",
       "text": [
        "<matplotlib.figure.Figure at 0x3eb6630>"
       ]
      },
      {
       "metadata": {},
       "output_type": "display_data",
       "png": "[encoded data removed]",
       "text": [
        "<matplotlib.figure.Figure at 0x1afba438>"
       ]
      }
     ],
     "prompt_number": 41
    },
    {
     "cell_type": "code",
     "collapsed": false,
     "input": [
      "from scipy.stats import t\n"
     ],
     "language": "python",
     "metadata": {},
     "outputs": [],
     "prompt_number": 42
    },
    {
     "cell_type": "code",
     "collapsed": false,
     "input": [
      "#---------Question Three-------------#\n",
      "hourdata=np.genfromtxt('http://web.uvic.ca/~jklymak/Phy411/Data/AllHourly.txt')[[6,28],2:]\n",
      "dc = hourdata[0,:]\n",
      "jb=hourdata[1,:]\n",
      "good = np.isfinite(dc + jb)\n",
      "deepcove = dc[good]\n",
      "deepcove = deepcove - np.mean(deepcove)\n",
      "jamesbay = jb[good]\n",
      "jamesbay = jamesbay - np.mean(jamesbay)"
     ],
     "language": "python",
     "metadata": {},
     "outputs": [],
     "prompt_number": 42
    },
    {
     "cell_type": "code",
     "collapsed": false,
     "input": [
      "rdcjb=(np.sum((deepcove-np.mean(deepcove))*(jamesbay-np.mean(jamesbay))))/((np.size(good)-1)*np.std(deepcove)*np.std(jamesbay))\n",
      "print rdcjb"
     ],
     "language": "python",
     "metadata": {},
     "outputs": [
      {
       "output_type": "stream",
       "stream": "stdout",
       "text": [
        "0.833968858408\n"
       ]
      }
     ],
     "prompt_number": 43
    },
    {
     "cell_type": "code",
     "collapsed": false,
     "input": [
      "b = (np.sum(deepcove*jamesbay)-(np.size(good)*np.mean(deepcove)*np.mean(deepcove)))/(np.sum(deepcove**2)-(np.mean(deepcove)**2)*np.size(good))\n",
      "a = np.mean(jamesbay)-b*np.mean(deepcove)\n",
      "y = b*deepcove + a"
     ],
     "language": "python",
     "metadata": {},
     "outputs": [],
     "prompt_number": 49
    },
    {
     "cell_type": "code",
     "collapsed": false,
     "input": [
      "syx=np.sqrt(np.sum((jamesbay-y)**2)/(np.size(good)-2))\n",
      "bdn,bup=stats.t.interval(0.95,df=np.size(good)-2,scale=syx)\n",
      "bb=np.array([bdn,bup])\n",
      "bb=bb/np.sqrt(np.sum((deepcove-np.mean(deepcove))**2))\n",
      "print 'Slope b is between %f and %f with 95%% probability'%(b+bb[0],b+bb[1])\n",
      "deepcovesorted=np.sort(deepcove)\n",
      "yhathigh=(b+bb[1])*(deepcovesorted-np.mean(deepcove))+np.mean(jamesbay)\n",
      "yhatlow=(b+bb[0])*(deepcovesorted-np.mean(deepcove))+np.mean(jamesbay)\n",
      "fig,ax=plt.subplots(1,1)\n",
      "ax.plot(deepcove,jamesbay,'.')\n",
      "ax.plot(deepcove,y,'-')\n",
      "ax.set_xlabel('Deep Cove')\n",
      "ax.set_ylabel('James Bay')\n",
      "ax.fill_between(deepcovesorted,yhathigh,yhatlow,alpha=0.4,color='red')"
     ],
     "language": "python",
     "metadata": {},
     "outputs": [
      {
       "output_type": "stream",
       "stream": "stdout",
       "text": [
        "Slope b is between 0.753978 and 0.758922 with 95% probability\n"
       ]
      },
      {
       "metadata": {},
       "output_type": "pyout",
       "prompt_number": 52,
       "text": [
        "<matplotlib.collections.PolyCollection at 0x16f056a0>"
       ]
      },
      {
       "metadata": {},
       "output_type": "display_data",
       "png": "[encoded data removed]",
       "text": [
        "<matplotlib.figure.Figure at 0x1750cc88>"
       ]
      }
     ],
     "prompt_number": 52
    },
    {
     "cell_type": "code",
     "collapsed": false,
     "input": [],
     "language": "python",
     "metadata": {},
     "outputs": [],
     "prompt_number": 45
    }
   ],
   "metadata": {}
  }
 ]
}