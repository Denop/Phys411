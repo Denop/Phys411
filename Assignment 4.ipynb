{
 "metadata": {
  "name": "",
  "signature": "sha256:bff4b9baed746e6d824a870afabffedf77c35534dc0afa9cf8ec2f22350fdeeb"
 },
 "nbformat": 3,
 "nbformat_minor": 0,
 "worksheets": [
  {
   "cells": [
    {
     "cell_type": "code",
     "collapsed": false,
     "input": [
      "import numpy as np\n",
      "import math\n",
      "import cmath\n",
      "%matplotlib inline\n",
      "import matplotlib.pyplot as plt\n",
      "import scipy.stats as stats"
     ],
     "language": "python",
     "metadata": {},
     "outputs": [],
     "prompt_number": 5
    },
    {
     "cell_type": "code",
     "collapsed": false,
     "input": [
      "#---------Question One-------------#\n",
      "hourdata=np.genfromtxt('http://web.uvic.ca/~jklymak/Phy411/Data/AllHourly.txt')[[6,28],2:]\n",
      "dc = hourdata[0,:]\n",
      "jb = hourdata[1,:]\n",
      "dc = dc[~np.isnan(dc)]#removing all of the nans\n",
      "dc = dc - np.mean(dc)#centering on the mean\n",
      "winter = dc[0:2190:1]\n",
      "N = 2190\n",
      "T = 3600\n",
      "F = np.zeros((N,N))\n",
      "n = np.arange(0,N)\n",
      "for k in range(0,N/2+1):\n",
      "    F[:,k] = np.cos(2*math.pi*n*k/N)\n",
      "for k in range(1,N/2):\n",
      "    F[:,k+N/2] = np.sin(2*math.pi*n*k/N)\n",
      "F_inv = np.linalg.inv(F)\n",
      "x_ft = F_inv.dot(winter)\n",
      "x_fft = np.fft.fft(winter)\n",
      "print x_ft[0], '- i', x_ft[1095]\n",
      "print x_fft[1095]\n",
      "#the values are close but are not exactly the same\n",
      "#further into the array, the values seem to deviate quite drastically"
     ],
     "language": "python",
     "metadata": {},
     "outputs": [
      {
       "output_type": "stream",
       "stream": "stdout",
       "text": [
        "-6.19390545267 - i -0.00268718163243\n",
        "(-5.88492777503+1.06692432666e-12j)\n"
       ]
      }
     ],
     "prompt_number": 29
    },
    {
     "cell_type": "code",
     "collapsed": false,
     "input": [],
     "language": "python",
     "metadata": {},
     "outputs": []
    }
   ],
   "metadata": {}
  }
 ]
}